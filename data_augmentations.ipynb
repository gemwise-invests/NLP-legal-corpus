{
 "cells": [
  {
   "cell_type": "markdown",
   "metadata": {},
   "source": [
    "# 数据扩增\n",
    "\n",
    "对训练集进行扩增，验证集和测试集不要动"
   ]
  },
  {
   "cell_type": "code",
   "execution_count": 2,
   "metadata": {
    "tags": []
   },
   "outputs": [],
   "source": [
    "%matplotlib inline\n",
    "%config InlineBackend.figure_format = 'svg' \n",
    "import warnings\n",
    "warnings.filterwarnings('ignore')\n",
    "import re, jieba, requests, json, time\n",
    "import numpy as np\n",
    "import pandas as pd\n",
    "import matplotlib.pyplot as plt"
   ]
  },
  {
   "cell_type": "code",
   "execution_count": 2,
   "metadata": {
    "tags": []
   },
   "outputs": [
    {
     "name": "stdout",
     "output_type": "stream",
     "text": [
      "train has 330 rows and 2 columns\n"
     ]
    },
    {
     "data": {
      "text/html": [
       "<div>\n",
       "<style scoped>\n",
       "    .dataframe tbody tr th:only-of-type {\n",
       "        vertical-align: middle;\n",
       "    }\n",
       "\n",
       "    .dataframe tbody tr th {\n",
       "        vertical-align: top;\n",
       "    }\n",
       "\n",
       "    .dataframe thead th {\n",
       "        text-align: right;\n",
       "    }\n",
       "</style>\n",
       "<table border=\"1\" class=\"dataframe\">\n",
       "  <thead>\n",
       "    <tr style=\"text-align: right;\">\n",
       "      <th></th>\n",
       "      <th>content</th>\n",
       "      <th>class</th>\n",
       "    </tr>\n",
       "  </thead>\n",
       "  <tbody>\n",
       "    <tr>\n",
       "      <th>0</th>\n",
       "      <td>为了保障网络安全，维护网络空间主权和国家安全、社会公共利益，保护公民、法人和其他组织的合法权...</td>\n",
       "      <td>法规目的</td>\n",
       "    </tr>\n",
       "    <tr>\n",
       "      <th>1</th>\n",
       "      <td>在中华人民共和国境内建设、运营、维护和使用网络，以及网络安全的监督管理，适用本法。</td>\n",
       "      <td>职责区分</td>\n",
       "    </tr>\n",
       "    <tr>\n",
       "      <th>2</th>\n",
       "      <td>国家坚持网络安全与信息化发展并重，遵循积极利用、科学发展、依法管理、确保安全的方针，推进网络...</td>\n",
       "      <td>法规倡议</td>\n",
       "    </tr>\n",
       "    <tr>\n",
       "      <th>3</th>\n",
       "      <td>国家制定并不断完善网络安全战略，明确保障网络安全的基本要求和主要目标，提出重点领域的网络安全...</td>\n",
       "      <td>法规倡议</td>\n",
       "    </tr>\n",
       "    <tr>\n",
       "      <th>4</th>\n",
       "      <td>国家采取措施，监测、防御、处置来源于中华人民共和国境内外的网络安全风险和威胁，保护关键信息基...</td>\n",
       "      <td>职责区分</td>\n",
       "    </tr>\n",
       "  </tbody>\n",
       "</table>\n",
       "</div>"
      ],
      "text/plain": [
       "                                             content class\n",
       "0  为了保障网络安全，维护网络空间主权和国家安全、社会公共利益，保护公民、法人和其他组织的合法权...  法规目的\n",
       "1          在中华人民共和国境内建设、运营、维护和使用网络，以及网络安全的监督管理，适用本法。  职责区分\n",
       "2  国家坚持网络安全与信息化发展并重，遵循积极利用、科学发展、依法管理、确保安全的方针，推进网络...  法规倡议\n",
       "3  国家制定并不断完善网络安全战略，明确保障网络安全的基本要求和主要目标，提出重点领域的网络安全...  法规倡议\n",
       "4  国家采取措施，监测、防御、处置来源于中华人民共和国境内外的网络安全风险和威胁，保护关键信息基...  职责区分"
      ]
     },
     "execution_count": 2,
     "metadata": {},
     "output_type": "execute_result"
    }
   ],
   "source": [
    "train = pd.read_csv('../data/TrainSet.csv')\n",
    "train['content'] = train['content'].astype(str)\n",
    "print('train has {} rows and {} columns'.format(train.shape[0], train.shape[1]))\n",
    "train.head()"
   ]
  },
  {
   "cell_type": "code",
   "execution_count": 98,
   "metadata": {},
   "outputs": [],
   "source": [
    "def translate(word):\n",
    "    '''访问有道词典 api'''\n",
    "    url = 'http://fanyi.youdao.com/translate?smartresult=dict&smartresult=rule&smartresult=ugc&sessionFrom=null'\n",
    "    # 传输的参数，其中 i 为需要翻译的内容\n",
    "    key = {\n",
    "        'type': \"AUTO\",\n",
    "        'i': word,\n",
    "        \"doctype\": \"json\",\n",
    "        \"version\": \"2.1\",\n",
    "        \"keyfrom\": \"fanyi.web\",\n",
    "        \"ue\": \"UTF-8\",\n",
    "        \"action\": \"FY_BY_CLICKBUTTON\",\n",
    "        \"typoResult\": \"true\"\n",
    "    }\n",
    "    # key 这个字典为发送给有道词典服务器的内容\n",
    "    response = requests.post(url, data=key)\n",
    "    # 判断服务器是否响应成功\n",
    "    if response.status_code == 200:\n",
    "        # 返回响应的结果\n",
    "        return response.text\n",
    "    else:\n",
    "        print(\"有道词典调用失败\")\n",
    "        # 响应失败就返回空\n",
    "        return None\n",
    "\n",
    "def get_main(word):\n",
    "    '''如果输入不只一句话，则将翻译过的字符串拼接起来'''\n",
    "    list_trans = translate(word)\n",
    "    result = json.loads(list_trans)\n",
    "    stri = ''\n",
    "    for i in result['translateResult'][0]:\n",
    "        stri += i['tgt']\n",
    "    return stri\n",
    "\n",
    "def translate_reverse(x):\n",
    "    '''反向翻译'''\n",
    "    x = get_main(x)\n",
    "    time.sleep(0.1) # 程序休眠0.1\n",
    "    return get_main(x)"
   ]
  },
  {
   "cell_type": "code",
   "execution_count": 4,
   "metadata": {},
   "outputs": [
    {
     "data": {
      "text/plain": [
       "0     为了保障网络安全，维护网络空间主权和国家安全、社会公共利益，保护公民、法人和其他组织的合法权...\n",
       "1             在中华人民共和国境内建设、运营、维护和使用网络，以及网络安全的监督管理，适用本法。\n",
       "2     国家坚持网络安全与信息化发展并重，遵循积极利用、科学发展、依法管理、确保安全的方针，推进网络...\n",
       "3     国家制定并不断完善网络安全战略，明确保障网络安全的基本要求和主要目标，提出重点领域的网络安全...\n",
       "4     国家采取措施，监测、防御、处置来源于中华人民共和国境内外的网络安全风险和威胁，保护关键信息基...\n",
       "5     国家倡导诚实守信、健康文明的网络行为，推动传播社会主义核心价值观，采取措施提高全社会的网络安...\n",
       "6     国家积极开展网络空间治理、网络技术研发和标准制定、打击网络违法犯罪等方面的国际交流与合作，推...\n",
       "7     国家网信部门负责统筹协调网络安全工作和相关监督管理工作。国务院电信主管部门、公安部门和其他有...\n",
       "8     网络相关行业组织按照章程，加强行业自律，制定网络安全行为规范，指导会员加强网络安全保护，提高...\n",
       "9     任何个人和组织使用网络应当遵守宪法法律，遵守公共秩序，尊重社会公德，不得危害网络安全，不得利...\n",
       "10    国家支持研究开发有利于未成年人健康成长的网络产品和服务，依法惩治利用网络从事危害未成年人身心...\n",
       "11    国家建立和完善网络安全标准体系。国务院标准化行政主管部门和国务院其他有关部门根据各自的职责，...\n",
       "12    国务院和省、自治区、直辖市人民政府应当统筹规划，加大投入，扶持重点网络安全技术产业和项目，支...\n",
       "13    国家推进网络安全社会化服务体系建设，鼓励有关企业、机构开展网络安全认证、检测和风险评估等安全服务。\n",
       "14    国家鼓励开发网络数据安全保护和利用技术，促进公共数据资源开放，推动技术创新和经济社会发展。国...\n",
       "Name: content, dtype: object"
      ]
     },
     "execution_count": 4,
     "metadata": {},
     "output_type": "execute_result"
    }
   ],
   "source": [
    "# 去除空格等\n",
    "train['content'] = train['content'].apply(lambda x: x.replace('\\u3000','') \\\n",
    "                                                      .replace('\\n','') \\\n",
    "                                                      .replace('\\r','') \\\n",
    "                                                      .strip()) \n",
    "train['content'].head(15)"
   ]
  },
  {
   "cell_type": "code",
   "execution_count": 5,
   "metadata": {},
   "outputs": [],
   "source": [
    "train.to_csv('../data/TrainSet0.csv',encoding='gb18030', index=False)"
   ]
  },
  {
   "cell_type": "code",
   "execution_count": 6,
   "metadata": {},
   "outputs": [
    {
     "data": {
      "text/plain": [
       "'在游戏中,你将能够访问(特性)结合基因表达和细胞生存独特的数据集(标签)的数据。'"
      ]
     },
     "execution_count": 6,
     "metadata": {},
     "output_type": "execute_result"
    }
   ],
   "source": [
    "translate_reverse('在这场比赛中，您将可以访问结合了基因表达（特征）和细胞存活率（标签）数据的独特数据集。')"
   ]
  },
  {
   "cell_type": "code",
   "execution_count": 11,
   "metadata": {
    "tags": []
   },
   "outputs": [
    {
     "name": "stdout",
     "output_type": "stream",
     "text": [
      "This program costs 154.21 seconds\n"
     ]
    },
    {
     "data": {
      "text/html": [
       "<div>\n",
       "<style scoped>\n",
       "    .dataframe tbody tr th:only-of-type {\n",
       "        vertical-align: middle;\n",
       "    }\n",
       "\n",
       "    .dataframe tbody tr th {\n",
       "        vertical-align: top;\n",
       "    }\n",
       "\n",
       "    .dataframe thead th {\n",
       "        text-align: right;\n",
       "    }\n",
       "</style>\n",
       "<table border=\"1\" class=\"dataframe\">\n",
       "  <thead>\n",
       "    <tr style=\"text-align: right;\">\n",
       "      <th></th>\n",
       "      <th>content</th>\n",
       "      <th>class</th>\n",
       "    </tr>\n",
       "  </thead>\n",
       "  <tbody>\n",
       "    <tr>\n",
       "      <th>0</th>\n",
       "      <td>为了保证网络安全,维护网络主权和国家安全、社会公共利益,保护公民的合法权益,法人和其他组织,...</td>\n",
       "      <td>法规目的</td>\n",
       "    </tr>\n",
       "    <tr>\n",
       "      <th>1</th>\n",
       "      <td>中华人民共和国境内的施工、操作、维护和使用网络,以及网络安全的监督管理,适用本法。</td>\n",
       "      <td>职责区分</td>\n",
       "    </tr>\n",
       "    <tr>\n",
       "      <th>2</th>\n",
       "      <td>国家坚持网络安全与信息技术的发展,积极利用、科学发展和管理,确保安全按照政策,促进网络基础设...</td>\n",
       "      <td>法规倡议</td>\n",
       "    </tr>\n",
       "    <tr>\n",
       "      <th>3</th>\n",
       "      <td>国家发展和改善网络安全策略,明确网络安全的基本要求和主要目标,提出了关键领域的网络安全策略、...</td>\n",
       "      <td>法规倡议</td>\n",
       "    </tr>\n",
       "    <tr>\n",
       "      <th>4</th>\n",
       "      <td>国家采取措施来监控、国防和处置来源于中华人民共和国和网络安全风险和威胁,保护关键信息基础设施...</td>\n",
       "      <td>职责区分</td>\n",
       "    </tr>\n",
       "  </tbody>\n",
       "</table>\n",
       "</div>"
      ],
      "text/plain": [
       "                                             content class\n",
       "0  为了保证网络安全,维护网络主权和国家安全、社会公共利益,保护公民的合法权益,法人和其他组织,...  法规目的\n",
       "1          中华人民共和国境内的施工、操作、维护和使用网络,以及网络安全的监督管理,适用本法。  职责区分\n",
       "2  国家坚持网络安全与信息技术的发展,积极利用、科学发展和管理,确保安全按照政策,促进网络基础设...  法规倡议\n",
       "3  国家发展和改善网络安全策略,明确网络安全的基本要求和主要目标,提出了关键领域的网络安全策略、...  法规倡议\n",
       "4  国家采取措施来监控、国防和处置来源于中华人民共和国和网络安全风险和威胁,保护关键信息基础设施...  职责区分"
      ]
     },
     "execution_count": 11,
     "metadata": {},
     "output_type": "execute_result"
    }
   ],
   "source": [
    "train0 = train.copy()\n",
    "start = time.time()\n",
    "train0['content'] = train0['content'].apply(lambda x: translate_reverse(x))\n",
    "print('This program costs {:.2f} seconds'.format(time.time()-start))\n",
    "train0.head()"
   ]
  },
  {
   "cell_type": "code",
   "execution_count": 7,
   "metadata": {},
   "outputs": [
    {
     "data": {
      "text/plain": [
       "'国家实行网络安全等级保护制度。网络运营者应当按照网络安全等级保护制度的要求，履行下列安全保护义务，保障网络免受干扰、破坏或者未经授权的访问，防止网络数据泄露或者被窃取、篡改：（一）制定内部安全管理制度和操作规程，确定网络安全负责人，落实网络安全保护责任；（二）采取防范计算机病毒和网络攻击、网络侵入等危害网络安全行为的技术措施；（三）采取监测、记录网络运行状态、网络安全事件的技术措施，并按照规定留存相关的网络日志不少于六个月；（四）采取数据分类、重要数据备份和加密等措施；（五）法律、行政法规规定的其他义务。'"
      ]
     },
     "execution_count": 7,
     "metadata": {},
     "output_type": "execute_result"
    }
   ],
   "source": [
    "sample = train.iloc[17,0]\n",
    "sample\n",
    "#type(sample)   "
   ]
  },
  {
   "cell_type": "code",
   "execution_count": 12,
   "metadata": {},
   "outputs": [
    {
     "data": {
      "text/plain": [
       "'国家实行系统的网络安全防护水平。网络运营商应当按照网络安全等级保护系统的要求,执行以下安全保护义务,保障对干扰,破坏或未经授权的访问,防止网络数据泄露或被盗,篡改:(1)建立内部安全管理制度和操作规程,识别、安全主管、落实责任保护网络安全;(2)以防止计算机病毒和网络攻击,网络入侵技术措施等危害网络安全的行为;(3)监测和记录网络运行状态,网络安全事件的技术方法,依照有关规定和留存有关web日志不少于6个月;(4)将数据分类、数据备份和加密措施;(5)法律、行政法规规定的其他义务。'"
      ]
     },
     "execution_count": 12,
     "metadata": {},
     "output_type": "execute_result"
    }
   ],
   "source": [
    "train0.iloc[17,0] # 展示一下扩增后的例子"
   ]
  },
  {
   "cell_type": "markdown",
   "metadata": {},
   "source": [
    "## 数据扩增计划\n",
    "\n",
    "原始数据330行\n",
    "+ 使用反向翻译以整句为单位将数据扩增一倍\n",
    "+ 使用反向翻译(日文)以整句为单位将数据扩增一倍\n",
    "+ 在分词后，将一些词语随机进行反向翻译\n",
    "+ 在分词后，将一些词语随机替换为 噪音\n",
    "+ "
   ]
  },
  {
   "cell_type": "code",
   "execution_count": 13,
   "metadata": {},
   "outputs": [],
   "source": [
    "train0.to_csv('../data/augment.csv',encoding='gb18030', index=False)"
   ]
  },
  {
   "cell_type": "code",
   "execution_count": 47,
   "metadata": {},
   "outputs": [
    {
     "data": {
      "text/plain": [
       "'training'"
      ]
     },
     "execution_count": 47,
     "metadata": {},
     "output_type": "execute_result"
    }
   ],
   "source": [
    "get_main('训练')"
   ]
  },
  {
   "cell_type": "code",
   "execution_count": 63,
   "metadata": {},
   "outputs": [
    {
     "name": "stdout",
     "output_type": "stream",
     "text": [
      "翻译的结果是：{'type': 'ZH_CN2EN', 'errorCode': 0, 'elapsedTime': 6, 'translateResult': [[{'src': '疯狂的海鲜', 'tgt': 'Wild seafood'}]]}\n"
     ]
    }
   ],
   "source": [
    "import urllib.request\n",
    "import urllib.parse\n",
    "import json\n",
    " \n",
    "# 等待用户输入需要翻译的单词\n",
    "#content = input('请输入需要翻译的单词：')\n",
    "content = '疯狂的海鲜'\n",
    "# 有道翻译的url链接\n",
    "url = 'http://fanyi.youdao.com/translate?smartresult=dict&smartresult=rule&smartresult=ugc&sessionFrom=null'\n",
    " \n",
    "# 发送给有道服务器的数据\n",
    "data = {}\n",
    " \n",
    "# 需要翻译的文字\n",
    "data['i'] = content\n",
    "# 下面这些都先按照我们之前抓包获取到的数据\n",
    "data['from'] = 'zh'\n",
    "data['to'] = 'fr'\n",
    "data['smartresult'] = 'dict'\n",
    "data['client'] = 'fanyideskweb'\n",
    "data['salt'] = '1500349255670'\n",
    "data['sign'] = '997742c66698b25b43a3a5030e1c2ff2'\n",
    "data['doctype'] = 'json'\n",
    "data['version'] = '2.1'\n",
    "data['keyfrom'] = 'fanyi.web'\n",
    "data['action'] = 'FY_BY_CL1CKBUTTON'\n",
    "data['typoResult'] = 'true'\n",
    "data['type'] = 'ZH_CN2fr'\n",
    "# 对数据进行编码处理\n",
    "data = urllib.parse.urlencode(data).encode('utf-8')\n",
    " \n",
    "# 创建一个Request对象，把url和data传进去，并且需要注意的使用的是POST请求\n",
    "request = urllib.request.Request(url=url, data=data, method='POST')\n",
    "# 打开这个请求\n",
    "response = urllib.request.urlopen(request)\n",
    "# 读取返回来的数据\n",
    "result_str = response.read().decode('utf-8')\n",
    "# 把返回来的json字符串解析成字典\n",
    "result_dict = json.loads(result_str)\n",
    " \n",
    "# 获取翻译结果\n",
    "print('翻译的结果是：%s' % result_dict)"
   ]
  },
  {
   "cell_type": "code",
   "execution_count": 100,
   "metadata": {},
   "outputs": [
    {
     "data": {
      "text/plain": [
       "'训练模式'"
      ]
     },
     "execution_count": 100,
     "metadata": {},
     "output_type": "execute_result"
    }
   ],
   "source": [
    "def translate_ja(word):\n",
    "    '''访问有道词典 api'''\n",
    "    url = 'http://fanyi.youdao.com/translate?smartresult=dict&smartresult=rule&smartresult=ugc&sessionFrom=null'\n",
    "    # 传输的参数，其中 i 为需要翻译的内容\n",
    "    key = {\n",
    "        'i': word,\n",
    "        \"doctype\": \"json\",\n",
    "        \"version\": \"2.1\",\n",
    "        \"keyfrom\": \"fanyi.web\",\n",
    "        \"ue\": \"UTF-8\",\n",
    "        \"action\": \"FY_BY_CLICKBUTTON\",\n",
    "       # \"from\": \"zh\",\n",
    "        \"to\": \"ja\" ,\n",
    "        \"typoResult\": \"true\",\n",
    "        \"type\":\"ZH_CN2JA\"\n",
    "    }\n",
    "    # key 这个字典为发送给有道词典服务器的内容\n",
    "    response = requests.post(url, data=key)\n",
    "    # 判断服务器是否响应成功\n",
    "    if response.status_code == 200:\n",
    "        # 返回响应的结果\n",
    "        return response.text\n",
    "    else:\n",
    "        print(\"有道词典调用失败\")\n",
    "        # 响应失败就返回空\n",
    "        return None\n",
    "\n",
    "def get_main_japan(word):\n",
    "    '''如果输入不只一句话，则将翻译过的字符串拼接起来'''\n",
    "    list_trans = translate_ja(word)\n",
    "    result = json.loads(list_trans)\n",
    "    stri = ''\n",
    "    for i in result['translateResult'][0]:\n",
    "        stri += i['tgt']\n",
    "    return stri\n",
    "\n",
    "def translate_reverse_ja(x):\n",
    "    '''反向翻译'''\n",
    "    x = get_main_japan(x)\n",
    "    time.sleep(0.1) # 程序休眠0.1\n",
    "    return get_main(x)\n",
    "\n",
    "#get_main_japan('训练')\n",
    "translate_reverse_ja('训练模型')"
   ]
  },
  {
   "cell_type": "code",
   "execution_count": 99,
   "metadata": {},
   "outputs": [
    {
     "data": {
      "text/plain": [
       "'国家网络安全保护等级制度的执行计划。如果网络运营者网络安全等级保护制度的要求,按照下面的安全保护义务的履行,保障网络,妨碍或破坏的授权访问,防止泄漏和推行网络数据被篡改,盗难:(1)制定内部的安全管理制度和指南,并确定网络安全负责人,保护网络安全责任落实;(2)防范计算机病毒、网络攻击、侵入等危害网络安全行为的技术措施;(3)进行监测,网络的状态,根据网络安全运行记录技术措施,按照事件的相关规定,大家的网络日志6个月不能少;(4)分类,重要数据的备份和数据加密等措施;(5)法律、行政法规规定的其他义务。'"
      ]
     },
     "execution_count": 99,
     "metadata": {},
     "output_type": "execute_result"
    }
   ],
   "source": [
    "translate_reverse_ja('国家实行网络安全等级保护制度。网络运营者应当按照网络安全等级保护制度的要求，履行下列安全保护义务，保障网络免受干扰、破坏或者未经授权的访问，防止网络数据泄露或者被窃取、篡改：（一）制定内部安全管理制度和操作规程，确定网络安全负责人，落实网络安全保护责任；（二）采取防范计算机病毒和网络攻击、网络侵入等危害网络安全行为的技术措施；（三）采取监测、记录网络运行状态、网络安全事件的技术措施，并按照规定留存相关的网络日志不少于六个月；（四）采取数据分类、重要数据备份和加密等措施；（五）法律、行政法规规定的其他义务。')"
   ]
  },
  {
   "cell_type": "code",
   "execution_count": 97,
   "metadata": {},
   "outputs": [
    {
     "data": {
      "text/plain": [
       "'国家サイバー安全保護等級制度を施行する計画だ。インターネット運営者ならサイバー安全等級保護制度の要求どおり、下记の安全保護義務の履行を保障からネットワークを妨害したり、破壊の不用意授権訪問、流出防止やインターネットデータ改竄し、盗难されて'"
      ]
     },
     "execution_count": 97,
     "metadata": {},
     "output_type": "execute_result"
    }
   ],
   "source": [
    "get_main_japan('国家实行网络安全等级保护制度。网络运营者应当按照网络安全等级保护制度的要求，履行下列安全保护义务，保障网络免受干扰、破坏或者未经授权的访问，防止网络数据泄露或者被窃取、篡改')"
   ]
  },
  {
   "cell_type": "code",
   "execution_count": 7,
   "metadata": {},
   "outputs": [],
   "source": [
    "from googletrans import Translator\n",
    "translator = Translator(service_urls=[\"translate.google.cn\"])\n",
    "\n",
    "# 调用翻译函数，指定原语言的代码(en)，和目标语言的代码(zh-CN)\n"
   ]
  },
  {
   "cell_type": "code",
   "execution_count": 11,
   "metadata": {},
   "outputs": [
    {
     "name": "stdout",
     "output_type": "stream",
     "text": [
      "Bonjour, je suis un grand arbre. Toi idiot. Voulez-vous boire du Starbucks?\n"
     ]
    }
   ],
   "source": [
    "result = translator.translate('您好，我是大树。你个大傻逼。想不想喝星巴克。', src='zh-CN', dest='fr')\n",
    "print(result.text)"
   ]
  },
  {
   "cell_type": "code",
   "execution_count": null,
   "metadata": {},
   "outputs": [],
   "source": []
  }
 ],
 "metadata": {
  "kernelspec": {
   "display_name": "Python 3",
   "language": "python",
   "name": "python3"
  },
  "language_info": {
   "codemirror_mode": {
    "name": "ipython",
    "version": 3
   },
   "file_extension": ".py",
   "mimetype": "text/x-python",
   "name": "python",
   "nbconvert_exporter": "python",
   "pygments_lexer": "ipython3",
   "version": "3.7.3"
  },
  "toc": {
   "base_numbering": 1,
   "nav_menu": {},
   "number_sections": false,
   "sideBar": true,
   "skip_h1_title": false,
   "title_cell": "Table of Contents",
   "title_sidebar": "Contents",
   "toc_cell": false,
   "toc_position": {},
   "toc_section_display": true,
   "toc_window_display": true
  }
 },
 "nbformat": 4,
 "nbformat_minor": 2
}
