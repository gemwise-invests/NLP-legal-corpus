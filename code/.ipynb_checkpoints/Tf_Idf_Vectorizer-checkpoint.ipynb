{
 "cells": [
  {
   "cell_type": "markdown",
   "metadata": {
    "toc": true
   },
   "source": [
    "<h1>目录<span class=\"tocSkip\"></span></h1>\n",
    "<div class=\"toc\"><ul class=\"toc-item\"><li><span><a href=\"#因变量重编码\" data-toc-modified-id=\"因变量重编码-1\"><span class=\"toc-item-num\">1&nbsp;&nbsp;</span>因变量重编码</a></span></li><li><span><a href=\"#Tf-Idf向量化\" data-toc-modified-id=\"Tf-Idf向量化-2\"><span class=\"toc-item-num\">2&nbsp;&nbsp;</span>Tf-Idf向量化</a></span></li><li><span><a href=\"#Hashing向量化\" data-toc-modified-id=\"Hashing向量化-3\"><span class=\"toc-item-num\">3&nbsp;&nbsp;</span>Hashing向量化</a></span></li><li><span><a href=\"#结论\" data-toc-modified-id=\"结论-4\"><span class=\"toc-item-num\">4&nbsp;&nbsp;</span>结论</a></span></li></ul></div>"
   ]
  },
  {
   "cell_type": "code",
   "execution_count": 1,
   "metadata": {},
   "outputs": [
    {
     "name": "stderr",
     "output_type": "stream",
     "text": [
      "Building prefix dict from the default dictionary ...\n",
      "Loading model from cache C:\\Users\\xsong\\AppData\\Local\\Temp\\jieba.cache\n",
      "Loading model cost 0.930 seconds.\n",
      "Prefix dict has been built succesfully.\n"
     ]
    }
   ],
   "source": [
    "import numpy as np \n",
    "import pandas as pd \n",
    "import matplotlib.pyplot as plt\n",
    "import seaborn as sns\n",
    "import jieba\n",
    "import re\n",
    "from useful_tools import * # 导入自编函数"
   ]
  },
  {
   "cell_type": "code",
   "execution_count": 2,
   "metadata": {},
   "outputs": [],
   "source": [
    "# 验证集和停用词\n",
    "train = pd.read_csv(\"../data/TrainSet.csv\")"
   ]
  },
  {
   "cell_type": "markdown",
   "metadata": {},
   "source": [
    "# 因变量重编码"
   ]
  },
  {
   "cell_type": "code",
   "execution_count": 3,
   "metadata": {},
   "outputs": [],
   "source": [
    "from sklearn.preprocessing import LabelEncoder\n",
    "le = LabelEncoder()\n",
    "y = le.fit_transform(train['class'])"
   ]
  },
  {
   "cell_type": "markdown",
   "metadata": {},
   "source": [
    "# Tf-Idf向量化"
   ]
  },
  {
   "cell_type": "code",
   "execution_count": 4,
   "metadata": {},
   "outputs": [],
   "source": [
    "cutWords_series = train['content'].apply(lambda x: get_cutword(x)) # 得到的是pandas series\n",
    "tfidf = get_vectorize(cutWords_series,vector = 'TfidfVectorizer')"
   ]
  },
  {
   "cell_type": "code",
   "execution_count": 5,
   "metadata": {},
   "outputs": [
    {
     "name": "stdout",
     "output_type": "stream",
     "text": [
      "10 折交叉验证准确率为 0.735\n"
     ]
    }
   ],
   "source": [
    "from sklearn.naive_bayes import MultinomialNB\n",
    "MultinomialNB = MultinomialNB() # 朴素贝叶斯\n",
    "cross_print_info(MultinomialNB, tfidf, y, cv=10)"
   ]
  },
  {
   "cell_type": "code",
   "execution_count": 6,
   "metadata": {},
   "outputs": [
    {
     "name": "stdout",
     "output_type": "stream",
     "text": [
      "10 折交叉验证准确率为 0.729\n"
     ]
    }
   ],
   "source": [
    "from sklearn.naive_bayes import BernoulliNB\n",
    "BernoulliNB = BernoulliNB() # 朴素贝叶斯\n",
    "cross_print_info(BernoulliNB, tfidf, y, cv=10)"
   ]
  },
  {
   "cell_type": "code",
   "execution_count": 7,
   "metadata": {},
   "outputs": [
    {
     "name": "stdout",
     "output_type": "stream",
     "text": [
      "10 折交叉验证准确率为 0.617\n"
     ]
    }
   ],
   "source": [
    "from sklearn.ensemble import AdaBoostClassifier\n",
    "from sklearn.tree import DecisionTreeClassifier\n",
    "reg = AdaBoostClassifier(DecisionTreeClassifier()) # AdaBoost\n",
    "cross_print_info(reg, tfidf, y, cv=10)"
   ]
  },
  {
   "cell_type": "code",
   "execution_count": 8,
   "metadata": {},
   "outputs": [
    {
     "name": "stdout",
     "output_type": "stream",
     "text": [
      "10 折交叉验证准确率为 0.737\n"
     ]
    }
   ],
   "source": [
    "from sklearn.ensemble import RandomForestClassifier\n",
    "rf = RandomForestClassifier(n_estimators=50) # 随机森林\n",
    "cross_print_info(rf, tfidf, y, cv=10)"
   ]
  },
  {
   "cell_type": "code",
   "execution_count": 9,
   "metadata": {},
   "outputs": [
    {
     "name": "stdout",
     "output_type": "stream",
     "text": [
      "10 折交叉验证准确率为 0.704\n"
     ]
    }
   ],
   "source": [
    "import xgboost as xgb\n",
    "model = xgb.XGBClassifier(n_estimators=100) # XGBoost\n",
    "cross_print_info(model, tfidf, y, cv=10)"
   ]
  },
  {
   "cell_type": "markdown",
   "metadata": {},
   "source": [
    "基准：rf0.686 xgb0.7"
   ]
  },
  {
   "cell_type": "code",
   "execution_count": null,
   "metadata": {},
   "outputs": [],
   "source": [
    "from sklearn.svm import SVC\n",
    "svmc = SVC(gamma='auto') # 支持向量机\n",
    "cross_print_info(svmc, tfidf, y, cv = 10)"
   ]
  },
  {
   "cell_type": "markdown",
   "metadata": {},
   "source": [
    "# Hashing向量化"
   ]
  },
  {
   "cell_type": "code",
   "execution_count": 10,
   "metadata": {},
   "outputs": [],
   "source": [
    "cutWords_series = train['content'].apply(lambda x: get_cutword(x)) # 得到的是pandas series\n",
    "Hash = get_vectorize(cutWords_series,vector = 'HashingVectorizer')"
   ]
  },
  {
   "cell_type": "code",
   "execution_count": 11,
   "metadata": {},
   "outputs": [
    {
     "name": "stdout",
     "output_type": "stream",
     "text": [
      "10 折交叉验证准确率为 0.544\n"
     ]
    }
   ],
   "source": [
    "cross_print_info(reg, Hash, y, cv=10) # AdaBoost"
   ]
  },
  {
   "cell_type": "code",
   "execution_count": 12,
   "metadata": {},
   "outputs": [
    {
     "name": "stdout",
     "output_type": "stream",
     "text": [
      "10 折交叉验证准确率为 0.69\n"
     ]
    }
   ],
   "source": [
    "cross_print_info(rf, Hash, y, cv=10) # 随机森林"
   ]
  },
  {
   "cell_type": "code",
   "execution_count": 13,
   "metadata": {},
   "outputs": [
    {
     "name": "stdout",
     "output_type": "stream",
     "text": [
      "10 折交叉验证准确率为 0.633\n"
     ]
    }
   ],
   "source": [
    "cross_print_info(model, Hash, y, cv=10) # XGBoost"
   ]
  },
  {
   "cell_type": "code",
   "execution_count": null,
   "metadata": {},
   "outputs": [],
   "source": [
    "cross_print_info(svmc, Hash, y, cv = 10) # 支持向量机"
   ]
  },
  {
   "cell_type": "markdown",
   "metadata": {},
   "source": [
    "# 结论\n",
    "Tf-Idf取得了很高的准确率,高过了词频方法。Hashing方法表现较差。"
   ]
  },
  {
   "cell_type": "code",
   "execution_count": null,
   "metadata": {},
   "outputs": [],
   "source": []
  }
 ],
 "metadata": {
  "kernelspec": {
   "display_name": "Python 3",
   "language": "python",
   "name": "python3"
  },
  "language_info": {
   "codemirror_mode": {
    "name": "ipython",
    "version": 3
   },
   "file_extension": ".py",
   "mimetype": "text/x-python",
   "name": "python",
   "nbconvert_exporter": "python",
   "pygments_lexer": "ipython3",
   "version": "3.7.3"
  },
  "toc": {
   "base_numbering": 1,
   "nav_menu": {},
   "number_sections": true,
   "sideBar": true,
   "skip_h1_title": false,
   "title_cell": "目录",
   "title_sidebar": "Contents",
   "toc_cell": true,
   "toc_position": {},
   "toc_section_display": true,
   "toc_window_display": true
  }
 },
 "nbformat": 4,
 "nbformat_minor": 2
}
