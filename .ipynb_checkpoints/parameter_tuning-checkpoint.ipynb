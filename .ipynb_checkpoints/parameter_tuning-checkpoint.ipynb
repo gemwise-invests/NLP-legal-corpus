{
 "cells": [
  {
   "cell_type": "code",
   "execution_count": 1,
   "metadata": {},
   "outputs": [
    {
     "name": "stderr",
     "output_type": "stream",
     "text": [
      "Building prefix dict from the default dictionary ...\n",
      "Loading model from cache C:\\Users\\xsong\\AppData\\Local\\Temp\\jieba.cache\n",
      "Loading model cost 1.278 seconds.\n",
      "Prefix dict has been built succesfully.\n"
     ]
    }
   ],
   "source": [
    "import time\n",
    "import numpy as np \n",
    "import pandas as pd \n",
    "import matplotlib.pyplot as plt\n",
    "import seaborn as sns\n",
    "import jieba\n",
    "import re\n",
    "from useful_tools import * # 导入自编函数"
   ]
  },
  {
   "cell_type": "code",
   "execution_count": 2,
   "metadata": {},
   "outputs": [],
   "source": [
    "train = pd.read_csv(\"../data/TrainSet.csv\")\n",
    "from sklearn.preprocessing import LabelEncoder\n",
    "le = LabelEncoder()\n",
    "y = le.fit_transform(train['class'])\n",
    "\n",
    "mapping = dict(zip(le.classes_, le.transform(le.classes_)))\n",
    "mapping\n",
    "cutWords_series = train['content'].apply(lambda x: get_cutword(x)) # 得到的是pandas series\n",
    "unigram = get_vectorize(cutWords_series)"
   ]
  },
  {
   "cell_type": "code",
   "execution_count": 3,
   "metadata": {},
   "outputs": [],
   "source": [
    "from sklearn.model_selection import GridSearchCV\n",
    "def param_tune(classifier,x_train, y_train, param_grid, cv = 10):\n",
    "    '''\n",
    "    调参函数，输入参数范围，输出运行时间、最优参数\n",
    "    '''\n",
    "    startTime = time.time()\n",
    "    gsearch = GridSearchCV(classifier,scoring = 'accuracy',\n",
    "                           param_grid = param_grid,\n",
    "                           iid = True, cv = cv)\n",
    "    gsearch.fit(x_train, y_train)\n",
    "    print('最高准确率为%.3f' %(gsearch.best_score_))\n",
    "    totaltime = time.time() - startTime\n",
    "    print('共花费%.2f秒' %(totaltime))\n",
    "    print(gsearch.best_params_)\n",
    "    return gsearch.best_estimator_"
   ]
  },
  {
   "cell_type": "code",
   "execution_count": 4,
   "metadata": {},
   "outputs": [],
   "source": [
    "param_test1 = {\n",
    " 'max_depth': range(2,5,1),\n",
    " 'min_child_weight': range(2,5,1)\n",
    "}\n",
    "\n",
    "param_test2 = { \n",
    " 'max_depth': range(2,3,1),\n",
    " 'min_child_weight': range(2,3,1),\n",
    " 'subsample':[ i / 10.0 for i in range(8,10)],\n",
    " 'colsample_bytree':[ i / 10.0 for i in range(6,7)]\n",
    "              }"
   ]
  },
  {
   "cell_type": "code",
   "execution_count": 5,
   "metadata": {},
   "outputs": [
    {
     "name": "stdout",
     "output_type": "stream",
     "text": [
      "最高准确率为0.745\n",
      "共花费28.80秒\n",
      "{'colsample_bytree': 0.6, 'max_depth': 2, 'min_child_weight': 2, 'subsample': 0.9}\n"
     ]
    },
    {
     "data": {
      "text/plain": [
       "XGBClassifier(base_score=0.5, booster='gbtree', colsample_bylevel=1,\n",
       "              colsample_bynode=1, colsample_bytree=0.6, gamma=0,\n",
       "              learning_rate=0.1, max_delta_step=0, max_depth=2,\n",
       "              min_child_weight=2, missing=None, n_estimators=100, n_jobs=1,\n",
       "              nthread=None, objective='multi:softprob', random_state=0,\n",
       "              reg_alpha=0, reg_lambda=1, scale_pos_weight=1, seed=None,\n",
       "              silent=None, subsample=0.9, verbosity=1)"
      ]
     },
     "execution_count": 5,
     "metadata": {},
     "output_type": "execute_result"
    }
   ],
   "source": [
    "from xgboost import XGBClassifier\n",
    "xgb = XGBClassifier( n_estimators=100)\n",
    "param_tune(xgb, unigram, y, param_test2 ,10)"
   ]
  },
  {
   "cell_type": "markdown",
   "metadata": {},
   "source": [
    "调参结果：\n",
    "\n",
    "```\n",
    "最高准确率为0.73\n",
    "共花费245.64秒\n",
    "{'max_depth': 3, 'min_child_weight': 4}\n",
    "\n",
    "最高准确率为0.74\n",
    "共花费425.80秒\n",
    "{'colsample_bytree': 0.4, 'subsample': 0.5}\n",
    "\n",
    "最高准确率为0.758\n",
    "共花费1323.96秒\n",
    "{'colsample_bytree': 0.5, 'max_depth': 3, 'min_child_weight': 2, 'subsample': 0.5}\n",
    "\n",
    "最高准确率为0.767\n",
    "共花费212.76秒\n",
    "{'colsample_bytree': 0.6, 'max_depth': 2, 'min_child_weight': 2, 'subsample': 0.8}\n",
    "```"
   ]
  },
  {
   "cell_type": "code",
   "execution_count": null,
   "metadata": {},
   "outputs": [],
   "source": []
  }
 ],
 "metadata": {
  "kernelspec": {
   "display_name": "Python 3",
   "language": "python",
   "name": "python3"
  },
  "language_info": {
   "codemirror_mode": {
    "name": "ipython",
    "version": 3
   },
   "file_extension": ".py",
   "mimetype": "text/x-python",
   "name": "python",
   "nbconvert_exporter": "python",
   "pygments_lexer": "ipython3",
   "version": "3.7.3"
  },
  "toc": {
   "base_numbering": 1,
   "nav_menu": {},
   "number_sections": true,
   "sideBar": true,
   "skip_h1_title": false,
   "title_cell": "Table of Contents",
   "title_sidebar": "Contents",
   "toc_cell": false,
   "toc_position": {},
   "toc_section_display": true,
   "toc_window_display": false
  }
 },
 "nbformat": 4,
 "nbformat_minor": 2
}
