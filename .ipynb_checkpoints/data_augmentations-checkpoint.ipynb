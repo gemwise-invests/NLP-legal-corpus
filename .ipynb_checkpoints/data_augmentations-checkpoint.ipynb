{
 "cells": [
  {
   "cell_type": "markdown",
   "metadata": {},
   "source": [
    "# 数据扩增"
   ]
  },
  {
   "cell_type": "code",
   "execution_count": 1,
   "metadata": {
    "tags": []
   },
   "outputs": [
    {
     "name": "stderr",
     "output_type": "stream",
     "text": [
      "Building prefix dict from the default dictionary ...\n",
      "Loading model from cache C:\\Users\\xsong\\AppData\\Local\\Temp\\jieba.cache\n",
      "Loading model cost 0.761 seconds.\n",
      "Prefix dict has been built succesfully.\n"
     ]
    }
   ],
   "source": [
    "%matplotlib inline\n",
    "%config InlineBackend.figure_format = 'svg' \n",
    "import warnings\n",
    "warnings.filterwarnings('ignore')\n",
    "import re, jieba, requests, json, time\n",
    "import numpy as np\n",
    "import pandas as pd\n",
    "import matplotlib.pyplot as plt\n",
    "from useful_tools import * # 导入自编函数"
   ]
  },
  {
   "cell_type": "code",
   "execution_count": 2,
   "metadata": {
    "tags": []
   },
   "outputs": [
    {
     "name": "stdout",
     "output_type": "stream",
     "text": [
      "train has 330 rows and 2 columns\n"
     ]
    },
    {
     "data": {
      "text/html": [
       "<div>\n",
       "<style scoped>\n",
       "    .dataframe tbody tr th:only-of-type {\n",
       "        vertical-align: middle;\n",
       "    }\n",
       "\n",
       "    .dataframe tbody tr th {\n",
       "        vertical-align: top;\n",
       "    }\n",
       "\n",
       "    .dataframe thead th {\n",
       "        text-align: right;\n",
       "    }\n",
       "</style>\n",
       "<table border=\"1\" class=\"dataframe\">\n",
       "  <thead>\n",
       "    <tr style=\"text-align: right;\">\n",
       "      <th></th>\n",
       "      <th>content</th>\n",
       "      <th>class</th>\n",
       "    </tr>\n",
       "  </thead>\n",
       "  <tbody>\n",
       "    <tr>\n",
       "      <th>0</th>\n",
       "      <td>为了保障网络安全，维护网络空间主权和国家安全、社会公共利益，保护公民、法人和其他组织的合法权...</td>\n",
       "      <td>法规目的</td>\n",
       "    </tr>\n",
       "    <tr>\n",
       "      <th>1</th>\n",
       "      <td>在中华人民共和国境内建设、运营、维护和使用网络，以及网络安全的监督管理，适用本法。</td>\n",
       "      <td>职责区分</td>\n",
       "    </tr>\n",
       "    <tr>\n",
       "      <th>2</th>\n",
       "      <td>国家坚持网络安全与信息化发展并重，遵循积极利用、科学发展、依法管理、确保安全的方针，推进网络...</td>\n",
       "      <td>法规倡议</td>\n",
       "    </tr>\n",
       "    <tr>\n",
       "      <th>3</th>\n",
       "      <td>国家制定并不断完善网络安全战略，明确保障网络安全的基本要求和主要目标，提出重点领域的网络安全...</td>\n",
       "      <td>法规倡议</td>\n",
       "    </tr>\n",
       "    <tr>\n",
       "      <th>4</th>\n",
       "      <td>国家采取措施，监测、防御、处置来源于中华人民共和国境内外的网络安全风险和威胁，保护关键信息基...</td>\n",
       "      <td>职责区分</td>\n",
       "    </tr>\n",
       "  </tbody>\n",
       "</table>\n",
       "</div>"
      ],
      "text/plain": [
       "                                             content class\n",
       "0  为了保障网络安全，维护网络空间主权和国家安全、社会公共利益，保护公民、法人和其他组织的合法权...  法规目的\n",
       "1          在中华人民共和国境内建设、运营、维护和使用网络，以及网络安全的监督管理，适用本法。  职责区分\n",
       "2  国家坚持网络安全与信息化发展并重，遵循积极利用、科学发展、依法管理、确保安全的方针，推进网络...  法规倡议\n",
       "3  国家制定并不断完善网络安全战略，明确保障网络安全的基本要求和主要目标，提出重点领域的网络安全...  法规倡议\n",
       "4  国家采取措施，监测、防御、处置来源于中华人民共和国境内外的网络安全风险和威胁，保护关键信息基...  职责区分"
      ]
     },
     "execution_count": 2,
     "metadata": {},
     "output_type": "execute_result"
    }
   ],
   "source": [
    "train = pd.read_csv('../data/TrainSet.csv')\n",
    "train['content'] = train['content'].astype(str)\n",
    "print('train has {} rows and {} columns'.format(train.shape[0], train.shape[1]))\n",
    "train.head()"
   ]
  },
  {
   "cell_type": "code",
   "execution_count": 3,
   "metadata": {},
   "outputs": [],
   "source": [
    "def translate(word):\n",
    "    '''访问有道词典 api'''\n",
    "    url = 'http://fanyi.youdao.com/translate?smartresult=dict&smartresult=rule&smartresult=ugc&sessionFrom=null'\n",
    "    # 传输的参数，其中 i 为需要翻译的内容\n",
    "    key = {\n",
    "        'type': \"AUTO\",\n",
    "        'i': word,\n",
    "        \"doctype\": \"json\",\n",
    "        \"version\": \"2.1\",\n",
    "        \"keyfrom\": \"fanyi.web\",\n",
    "        \"ue\": \"UTF-8\",\n",
    "        \"action\": \"FY_BY_CLICKBUTTON\",\n",
    "        \"typoResult\": \"true\"\n",
    "    }\n",
    "    # key 这个字典为发送给有道词典服务器的内容\n",
    "    response = requests.post(url, data=key)\n",
    "    # 判断服务器是否响应成功\n",
    "    if response.status_code == 200:\n",
    "        # 返回响应的结果\n",
    "        return response.text\n",
    "    else:\n",
    "        print(\"有道词典调用失败\")\n",
    "        # 响应失败就返回空\n",
    "        return None\n",
    "\n",
    "def get_main(word):\n",
    "    '''如果输入不只一句话，则将翻译过的字符串拼接起来'''\n",
    "    list_trans = translate(word)\n",
    "    result = json.loads(list_trans)\n",
    "    stri = ''\n",
    "    for i in result['translateResult'][0]:\n",
    "        stri += i['tgt']\n",
    "    return stri\n",
    "\n",
    "def translate_reverse(x):\n",
    "    '''反向翻译'''\n",
    "    return get_main(get_main(x))\n"
   ]
  },
  {
   "cell_type": "code",
   "execution_count": 4,
   "metadata": {},
   "outputs": [
    {
     "data": {
      "text/plain": [
       "0     为了保障网络安全，维护网络空间主权和国家安全、社会公共利益，保护公民、法人和其他组织的合法权...\n",
       "1             在中华人民共和国境内建设、运营、维护和使用网络，以及网络安全的监督管理，适用本法。\n",
       "2     国家坚持网络安全与信息化发展并重，遵循积极利用、科学发展、依法管理、确保安全的方针，推进网络...\n",
       "3     国家制定并不断完善网络安全战略，明确保障网络安全的基本要求和主要目标，提出重点领域的网络安全...\n",
       "4     国家采取措施，监测、防御、处置来源于中华人民共和国境内外的网络安全风险和威胁，保护关键信息基...\n",
       "5     国家倡导诚实守信、健康文明的网络行为，推动传播社会主义核心价值观，采取措施提高全社会的网络安...\n",
       "6     国家积极开展网络空间治理、网络技术研发和标准制定、打击网络违法犯罪等方面的国际交流与合作，推...\n",
       "7     国家网信部门负责统筹协调网络安全工作和相关监督管理工作。国务院电信主管部门、公安部门和其他有...\n",
       "8     网络相关行业组织按照章程，加强行业自律，制定网络安全行为规范，指导会员加强网络安全保护，提高...\n",
       "9     任何个人和组织使用网络应当遵守宪法法律，遵守公共秩序，尊重社会公德，不得危害网络安全，不得利...\n",
       "10    国家支持研究开发有利于未成年人健康成长的网络产品和服务，依法惩治利用网络从事危害未成年人身心...\n",
       "11    国家建立和完善网络安全标准体系。国务院标准化行政主管部门和国务院其他有关部门根据各自的职责，...\n",
       "12    国务院和省、自治区、直辖市人民政府应当统筹规划，加大投入，扶持重点网络安全技术产业和项目，支...\n",
       "13    国家推进网络安全社会化服务体系建设，鼓励有关企业、机构开展网络安全认证、检测和风险评估等安全服务。\n",
       "14    国家鼓励开发网络数据安全保护和利用技术，促进公共数据资源开放，推动技术创新和经济社会发展。国...\n",
       "Name: content, dtype: object"
      ]
     },
     "execution_count": 4,
     "metadata": {},
     "output_type": "execute_result"
    }
   ],
   "source": [
    "# 去除空格等\n",
    "train['content'] = train['content'].apply(lambda x: x.replace('\\u3000','') \\\n",
    "                                                      .replace('\\n','') \\\n",
    "                                                      .replace('\\r','') \\\n",
    "                                                      .strip()) \n",
    "train['content'].head(15)"
   ]
  },
  {
   "cell_type": "code",
   "execution_count": 5,
   "metadata": {},
   "outputs": [],
   "source": [
    "train.to_csv('../data/TrainSet0.csv',encoding='gb18030', index=False)"
   ]
  },
  {
   "cell_type": "code",
   "execution_count": 6,
   "metadata": {},
   "outputs": [
    {
     "data": {
      "text/plain": [
       "'在游戏中,你将能够访问(特性)结合基因表达和细胞生存独特的数据集(标签)的数据。'"
      ]
     },
     "execution_count": 6,
     "metadata": {},
     "output_type": "execute_result"
    }
   ],
   "source": [
    "translate_reverse('在这场比赛中，您将可以访问结合了基因表达（特征）和细胞存活率（标签）数据的独特数据集。')"
   ]
  },
  {
   "cell_type": "code",
   "execution_count": 21,
   "metadata": {
    "tags": []
   },
   "outputs": [
    {
     "name": "stdout",
     "output_type": "stream",
     "text": [
      "This program costs 86.67 seconds\n"
     ]
    },
    {
     "data": {
      "text/html": [
       "<div>\n",
       "<style scoped>\n",
       "    .dataframe tbody tr th:only-of-type {\n",
       "        vertical-align: middle;\n",
       "    }\n",
       "\n",
       "    .dataframe tbody tr th {\n",
       "        vertical-align: top;\n",
       "    }\n",
       "\n",
       "    .dataframe thead th {\n",
       "        text-align: right;\n",
       "    }\n",
       "</style>\n",
       "<table border=\"1\" class=\"dataframe\">\n",
       "  <thead>\n",
       "    <tr style=\"text-align: right;\">\n",
       "      <th></th>\n",
       "      <th>content</th>\n",
       "      <th>class</th>\n",
       "    </tr>\n",
       "  </thead>\n",
       "  <tbody>\n",
       "    <tr>\n",
       "      <th>0</th>\n",
       "      <td>为了保证网络安全,维护网络主权和国家安全、社会公共利益,保护公民的合法权益,法人和其他组织,...</td>\n",
       "      <td>法规目的</td>\n",
       "    </tr>\n",
       "    <tr>\n",
       "      <th>1</th>\n",
       "      <td>中华人民共和国境内的施工、操作、维护和使用网络,以及网络安全的监督管理,适用本法。</td>\n",
       "      <td>职责区分</td>\n",
       "    </tr>\n",
       "    <tr>\n",
       "      <th>2</th>\n",
       "      <td>国家坚持网络安全与信息技术的发展,积极利用、科学发展和管理,确保安全按照政策,促进网络基础设...</td>\n",
       "      <td>法规倡议</td>\n",
       "    </tr>\n",
       "    <tr>\n",
       "      <th>3</th>\n",
       "      <td>国家发展和改善网络安全策略,明确网络安全的基本要求和主要目标,提出了关键领域的网络安全策略、...</td>\n",
       "      <td>法规倡议</td>\n",
       "    </tr>\n",
       "    <tr>\n",
       "      <th>4</th>\n",
       "      <td>国家采取措施来监控、国防和处置来源于中华人民共和国和网络安全风险和威胁,保护关键信息基础设施...</td>\n",
       "      <td>职责区分</td>\n",
       "    </tr>\n",
       "  </tbody>\n",
       "</table>\n",
       "</div>"
      ],
      "text/plain": [
       "                                             content class\n",
       "0  为了保证网络安全,维护网络主权和国家安全、社会公共利益,保护公民的合法权益,法人和其他组织,...  法规目的\n",
       "1          中华人民共和国境内的施工、操作、维护和使用网络,以及网络安全的监督管理,适用本法。  职责区分\n",
       "2  国家坚持网络安全与信息技术的发展,积极利用、科学发展和管理,确保安全按照政策,促进网络基础设...  法规倡议\n",
       "3  国家发展和改善网络安全策略,明确网络安全的基本要求和主要目标,提出了关键领域的网络安全策略、...  法规倡议\n",
       "4  国家采取措施来监控、国防和处置来源于中华人民共和国和网络安全风险和威胁,保护关键信息基础设施...  职责区分"
      ]
     },
     "execution_count": 21,
     "metadata": {},
     "output_type": "execute_result"
    }
   ],
   "source": [
    "train0 = train.copy()\n",
    "start = time.time()\n",
    "train0['content'] = train0['content'].apply(lambda x: translate_reverse(x))\n",
    "print('This program costs {:.2f} seconds'.format(time.time()-start))\n",
    "train0.head()"
   ]
  },
  {
   "cell_type": "code",
   "execution_count": 7,
   "metadata": {},
   "outputs": [
    {
     "data": {
      "text/plain": [
       "'国家实行网络安全等级保护制度。网络运营者应当按照网络安全等级保护制度的要求，履行下列安全保护义务，保障网络免受干扰、破坏或者未经授权的访问，防止网络数据泄露或者被窃取、篡改：（一）制定内部安全管理制度和操作规程，确定网络安全负责人，落实网络安全保护责任；（二）采取防范计算机病毒和网络攻击、网络侵入等危害网络安全行为的技术措施；（三）采取监测、记录网络运行状态、网络安全事件的技术措施，并按照规定留存相关的网络日志不少于六个月；（四）采取数据分类、重要数据备份和加密等措施；（五）法律、行政法规规定的其他义务。'"
      ]
     },
     "execution_count": 7,
     "metadata": {},
     "output_type": "execute_result"
    }
   ],
   "source": [
    "sample = train.iloc[17,0]\n",
    "sample\n",
    "#type(sample)   "
   ]
  },
  {
   "cell_type": "code",
   "execution_count": 11,
   "metadata": {},
   "outputs": [
    {
     "data": {
      "text/html": [
       "<div>\n",
       "<style scoped>\n",
       "    .dataframe tbody tr th:only-of-type {\n",
       "        vertical-align: middle;\n",
       "    }\n",
       "\n",
       "    .dataframe tbody tr th {\n",
       "        vertical-align: top;\n",
       "    }\n",
       "\n",
       "    .dataframe thead th {\n",
       "        text-align: right;\n",
       "    }\n",
       "</style>\n",
       "<table border=\"1\" class=\"dataframe\">\n",
       "  <thead>\n",
       "    <tr style=\"text-align: right;\">\n",
       "      <th></th>\n",
       "      <th>content</th>\n",
       "      <th>class</th>\n",
       "    </tr>\n",
       "  </thead>\n",
       "  <tbody>\n",
       "    <tr>\n",
       "      <th>0</th>\n",
       "      <td>为了保障网络安全，维护网络空间主权和国家安全、社会公共利益，保护公民、法人和其他组织的合法权...</td>\n",
       "      <td>法规目的</td>\n",
       "    </tr>\n",
       "    <tr>\n",
       "      <th>1</th>\n",
       "      <td>在中华人民共和国境内建设、运营、维护和使用网络，以及网络安全的监督管理，适用本法。</td>\n",
       "      <td>职责区分</td>\n",
       "    </tr>\n",
       "    <tr>\n",
       "      <th>2</th>\n",
       "      <td>国家坚持网络安全与信息化发展并重，遵循积极利用、科学发展、依法管理、确保安全的方针，推进网络...</td>\n",
       "      <td>法规倡议</td>\n",
       "    </tr>\n",
       "    <tr>\n",
       "      <th>3</th>\n",
       "      <td>国家制定并不断完善网络安全战略，明确保障网络安全的基本要求和主要目标，提出重点领域的网络安全...</td>\n",
       "      <td>法规倡议</td>\n",
       "    </tr>\n",
       "    <tr>\n",
       "      <th>4</th>\n",
       "      <td>国家采取措施，监测、防御、处置来源于中华人民共和国境内外的网络安全风险和威胁，保护关键信息基...</td>\n",
       "      <td>职责区分</td>\n",
       "    </tr>\n",
       "    <tr>\n",
       "      <th>...</th>\n",
       "      <td>...</td>\n",
       "      <td>...</td>\n",
       "    </tr>\n",
       "    <tr>\n",
       "      <th>325</th>\n",
       "      <td>第一条为了规范互联网信息服务市场秩序，保护互联网信息服务提供者和用户的合法权益，促进互联网行...</td>\n",
       "      <td>法规目的</td>\n",
       "    </tr>\n",
       "    <tr>\n",
       "      <th>326</th>\n",
       "      <td>?第一条为了加强对互联网文化的管理，保障互联网文化单位的合法权益，促进我国互联网文化健康、有...</td>\n",
       "      <td>法规目的</td>\n",
       "    </tr>\n",
       "    <tr>\n",
       "      <th>327</th>\n",
       "      <td>第一条为维护国家利益和公共利益，保护公众和互联网视听节目服务单位的合法权益，规范互联网视听节...</td>\n",
       "      <td>法规目的</td>\n",
       "    </tr>\n",
       "    <tr>\n",
       "      <th>328</th>\n",
       "      <td>为规范互联网等信息网络传播视听节目秩序，加强监督管理，促进社会主义精神文明建设，制定本办法。</td>\n",
       "      <td>法规目的</td>\n",
       "    </tr>\n",
       "    <tr>\n",
       "      <th>329</th>\n",
       "      <td>第一条 为促进微博客信息服务健康有序发展，保护公民、法人和其他组织的合法权益，维护国家安全和...</td>\n",
       "      <td>法规目的</td>\n",
       "    </tr>\n",
       "  </tbody>\n",
       "</table>\n",
       "<p>330 rows × 2 columns</p>\n",
       "</div>"
      ],
      "text/plain": [
       "                                               content class\n",
       "0    为了保障网络安全，维护网络空间主权和国家安全、社会公共利益，保护公民、法人和其他组织的合法权...  法规目的\n",
       "1            在中华人民共和国境内建设、运营、维护和使用网络，以及网络安全的监督管理，适用本法。  职责区分\n",
       "2    国家坚持网络安全与信息化发展并重，遵循积极利用、科学发展、依法管理、确保安全的方针，推进网络...  法规倡议\n",
       "3    国家制定并不断完善网络安全战略，明确保障网络安全的基本要求和主要目标，提出重点领域的网络安全...  法规倡议\n",
       "4    国家采取措施，监测、防御、处置来源于中华人民共和国境内外的网络安全风险和威胁，保护关键信息基...  职责区分\n",
       "..                                                 ...   ...\n",
       "325  第一条为了规范互联网信息服务市场秩序，保护互联网信息服务提供者和用户的合法权益，促进互联网行...  法规目的\n",
       "326  ?第一条为了加强对互联网文化的管理，保障互联网文化单位的合法权益，促进我国互联网文化健康、有...  法规目的\n",
       "327  第一条为维护国家利益和公共利益，保护公众和互联网视听节目服务单位的合法权益，规范互联网视听节...  法规目的\n",
       "328     为规范互联网等信息网络传播视听节目秩序，加强监督管理，促进社会主义精神文明建设，制定本办法。  法规目的\n",
       "329  第一条 为促进微博客信息服务健康有序发展，保护公民、法人和其他组织的合法权益，维护国家安全和...  法规目的\n",
       "\n",
       "[330 rows x 2 columns]"
      ]
     },
     "execution_count": 11,
     "metadata": {},
     "output_type": "execute_result"
    }
   ],
   "source": [
    "train"
   ]
  },
  {
   "cell_type": "code",
   "execution_count": null,
   "metadata": {},
   "outputs": [],
   "source": []
  },
  {
   "cell_type": "code",
   "execution_count": 8,
   "metadata": {},
   "outputs": [
    {
     "data": {
      "text/plain": [
       "'国家实行网络安全等级保护制度。网络运营者应当按照网络安全等级保护制度的要求，履行下列安全保护义务，保障网络免受干扰、破坏或者未经授权的访问，防止网络数据泄露或者被窃取、篡改：（一）制定内部安全管理制度和操作规程，确定网络安全负责人，落实网络安全保护责任；（二）采取防范计算机病毒和网络攻击、网络侵入等危害网络安全行为的技术措施；（三）采取监测、记录网络运行状态、网络安全事件的技术措施，并按照规定留存相关的网络日志不少于六个月；（四）采取数据分类、重要数据备份和加密等措施；（五）法律、行政法规规定的其他义务。'"
      ]
     },
     "execution_count": 8,
     "metadata": {},
     "output_type": "execute_result"
    }
   ],
   "source": [
    "sample"
   ]
  },
  {
   "cell_type": "code",
   "execution_count": 9,
   "metadata": {
    "tags": []
   },
   "outputs": [
    {
     "data": {
      "text/plain": [
       "'国家实行系统的网络安全防护水平。网络运营商应当按照网络安全等级保护系统的要求,执行以下安全保护义务,保障对干扰,破坏或未经授权的访问,防止网络数据泄露或被盗,篡改:(1)建立内部安全管理制度和操作规程,识别、安全主管、落实责任保护网络安全;(2)以防止计算机病毒和网络攻击,网络入侵技术措施等危害网络安全的行为;(3)监测和记录网络运行状态,网络安全事件的技术方法,依照有关规定和留存有关web日志不少于6个月;(4)将数据分类、数据备份和加密措施;(5)法律、行政法规规定的其他义务。'"
      ]
     },
     "execution_count": 9,
     "metadata": {},
     "output_type": "execute_result"
    }
   ],
   "source": [
    "translate_reverse(sample)"
   ]
  },
  {
   "cell_type": "code",
   "execution_count": 105,
   "metadata": {
    "tags": []
   },
   "outputs": [
    {
     "data": {
      "text/plain": [
       "&#39;The state shall practise a system of network security level protection.Network operators shall be in accordance with the requirements of the network security level protection system, perform the following safety protection obligation, safety net against interference, destruction or unauthorized access, prevent the network data leaked or stolen, tampering with: (1) establish the internal safety management system and operational procedures, identify, director of security, implement the responsibility to protect network security;(2) to prevent computer virus and network attacks, network intrusion technical measures such as to endanger the safety of network behavior;(3) to monitor and record the network running status, the technical methods of network security incidents, and retained in accordance with the relevant provisions relevant web logs of not less than six months;(4) to take data classification, data backup and encryption measures;(5) laws and administrative rules and regulations of other obligations.&#39;"
      ]
     },
     "execution_count": 105,
     "metadata": {},
     "output_type": "execute_result"
    }
   ],
   "source": [
    "translate"
   ]
  },
  {
   "cell_type": "code",
   "execution_count": 86,
   "metadata": {},
   "outputs": [
    {
     "data": {
      "text/plain": [
       "[[{&#39;src&#39;: &#39;国家实行网络安全等级保护制度。&#39;,\n",
       "   &#39;tgt&#39;: &#39;The state shall practise a system of network security level protection.&#39;},\n",
       "  {&#39;src&#39;: &#39;网络运营者应当按照网络安全等级保护制度的要求，履行下列安全保护义务，保障网络免受干扰、破坏或者未经授权的访问，防止网络数据泄露或者被窃取、篡改：（一）制定内部安全管理制度和操作规程，确定网络安全负责人，落实网络安全保护责任；&#39;,\n",
       "   &#39;tgt&#39;: &#39;Network operators shall be in accordance with the requirements of the network security level protection system, perform the following safety protection obligation, safety net against interference, destruction or unauthorized access, prevent the network data leaked or stolen, tampering with: (1) establish the internal safety management system and operational procedures, identify, director of security, implement the responsibility to protect network security;&#39;},\n",
       "  {&#39;src&#39;: &#39;（二）采取防范计算机病毒和网络攻击、网络侵入等危害网络安全行为的技术措施；&#39;,\n",
       "   &#39;tgt&#39;: &#39;(2) to prevent computer virus and network attacks, network intrusion technical measures such as to endanger the safety of network behavior;&#39;},\n",
       "  {&#39;src&#39;: &#39;（三）采取监测、记录网络运行状态、网络安全事件的技术措施，并按照规定留存相关的网络日志不少于六个月；&#39;,\n",
       "   &#39;tgt&#39;: &#39;(3) to monitor and record the network running status, the technical methods of network security incidents, and retained in accordance with the relevant provisions relevant web logs of not less than six months;&#39;},\n",
       "  {&#39;src&#39;: &#39;（四）采取数据分类、重要数据备份和加密等措施；&#39;,\n",
       "   &#39;tgt&#39;: &#39;(4) to take data classification, data backup and encryption measures;&#39;},\n",
       "  {&#39;src&#39;: &#39;（五）法律、行政法规规定的其他义务。&#39;,\n",
       "   &#39;tgt&#39;: &#39;(5) laws and administrative rules and regulations of other obligations.&#39;}]]"
      ]
     },
     "execution_count": 86,
     "metadata": {},
     "output_type": "execute_result"
    }
   ],
   "source": [
    "translate['translateResult']"
   ]
  },
  {
   "cell_type": "code",
   "execution_count": 22,
   "metadata": {},
   "outputs": [],
   "source": [
    "train0.to_csv('../data/augment.csv',encoding='gb18030', index=False)"
   ]
  },
  {
   "cell_type": "code",
   "execution_count": null,
   "metadata": {},
   "outputs": [],
   "source": []
  }
 ],
 "metadata": {
  "kernelspec": {
   "display_name": "Python 3",
   "language": "python",
   "name": "python3"
  },
  "language_info": {
   "codemirror_mode": {
    "name": "ipython",
    "version": 3
   },
   "file_extension": ".py",
   "mimetype": "text/x-python",
   "name": "python",
   "nbconvert_exporter": "python",
   "pygments_lexer": "ipython3",
   "version": "3.7.3"
  },
  "toc": {
   "base_numbering": 1,
   "nav_menu": {},
   "number_sections": true,
   "sideBar": true,
   "skip_h1_title": false,
   "title_cell": "Table of Contents",
   "title_sidebar": "Contents",
   "toc_cell": false,
   "toc_position": {},
   "toc_section_display": true,
   "toc_window_display": true
  }
 },
 "nbformat": 4,
 "nbformat_minor": 2
}
